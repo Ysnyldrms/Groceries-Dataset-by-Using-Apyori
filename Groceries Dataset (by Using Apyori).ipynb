{
 "cells": [
  {
   "cell_type": "code",
   "execution_count": 1,
   "id": "4391aebf",
   "metadata": {},
   "outputs": [
    {
     "name": "stdout",
     "output_type": "stream",
     "text": [
      "Requirement already satisfied: apyori in c:\\users\\user\\anaconda3\\lib\\site-packages (1.1.2)\n",
      "Note: you may need to restart the kernel to use updated packages.\n"
     ]
    }
   ],
   "source": [
    "pip install apyori          "
   ]
  },
  {
   "cell_type": "code",
   "execution_count": 2,
   "id": "d9ee09df",
   "metadata": {},
   "outputs": [],
   "source": [
    "import pandas as pd \n",
    "import warnings\n",
    "warnings.filterwarnings(\"ignore\")"
   ]
  },
  {
   "cell_type": "code",
   "execution_count": 3,
   "id": "2ab643e9",
   "metadata": {},
   "outputs": [],
   "source": [
    "df = pd.read_csv(\"Groceries_dataset.csv\")"
   ]
  },
  {
   "cell_type": "code",
   "execution_count": 4,
   "id": "026b6eaf",
   "metadata": {
    "scrolled": false
   },
   "outputs": [
    {
     "data": {
      "text/html": [
       "<div>\n",
       "<style scoped>\n",
       "    .dataframe tbody tr th:only-of-type {\n",
       "        vertical-align: middle;\n",
       "    }\n",
       "\n",
       "    .dataframe tbody tr th {\n",
       "        vertical-align: top;\n",
       "    }\n",
       "\n",
       "    .dataframe thead th {\n",
       "        text-align: right;\n",
       "    }\n",
       "</style>\n",
       "<table border=\"1\" class=\"dataframe\">\n",
       "  <thead>\n",
       "    <tr style=\"text-align: right;\">\n",
       "      <th></th>\n",
       "      <th>Member_number</th>\n",
       "      <th>Date</th>\n",
       "      <th>itemDescription</th>\n",
       "    </tr>\n",
       "  </thead>\n",
       "  <tbody>\n",
       "    <tr>\n",
       "      <th>0</th>\n",
       "      <td>1808</td>\n",
       "      <td>21-07-2015</td>\n",
       "      <td>tropical fruit</td>\n",
       "    </tr>\n",
       "    <tr>\n",
       "      <th>1</th>\n",
       "      <td>2552</td>\n",
       "      <td>05-01-2015</td>\n",
       "      <td>whole milk</td>\n",
       "    </tr>\n",
       "    <tr>\n",
       "      <th>2</th>\n",
       "      <td>2300</td>\n",
       "      <td>19-09-2015</td>\n",
       "      <td>pip fruit</td>\n",
       "    </tr>\n",
       "    <tr>\n",
       "      <th>3</th>\n",
       "      <td>1187</td>\n",
       "      <td>12-12-2015</td>\n",
       "      <td>other vegetables</td>\n",
       "    </tr>\n",
       "    <tr>\n",
       "      <th>4</th>\n",
       "      <td>3037</td>\n",
       "      <td>01-02-2015</td>\n",
       "      <td>whole milk</td>\n",
       "    </tr>\n",
       "    <tr>\n",
       "      <th>...</th>\n",
       "      <td>...</td>\n",
       "      <td>...</td>\n",
       "      <td>...</td>\n",
       "    </tr>\n",
       "    <tr>\n",
       "      <th>38760</th>\n",
       "      <td>4471</td>\n",
       "      <td>08-10-2014</td>\n",
       "      <td>sliced cheese</td>\n",
       "    </tr>\n",
       "    <tr>\n",
       "      <th>38761</th>\n",
       "      <td>2022</td>\n",
       "      <td>23-02-2014</td>\n",
       "      <td>candy</td>\n",
       "    </tr>\n",
       "    <tr>\n",
       "      <th>38762</th>\n",
       "      <td>1097</td>\n",
       "      <td>16-04-2014</td>\n",
       "      <td>cake bar</td>\n",
       "    </tr>\n",
       "    <tr>\n",
       "      <th>38763</th>\n",
       "      <td>1510</td>\n",
       "      <td>03-12-2014</td>\n",
       "      <td>fruit/vegetable juice</td>\n",
       "    </tr>\n",
       "    <tr>\n",
       "      <th>38764</th>\n",
       "      <td>1521</td>\n",
       "      <td>26-12-2014</td>\n",
       "      <td>cat food</td>\n",
       "    </tr>\n",
       "  </tbody>\n",
       "</table>\n",
       "<p>38765 rows × 3 columns</p>\n",
       "</div>"
      ],
      "text/plain": [
       "       Member_number        Date        itemDescription\n",
       "0               1808  21-07-2015         tropical fruit\n",
       "1               2552  05-01-2015             whole milk\n",
       "2               2300  19-09-2015              pip fruit\n",
       "3               1187  12-12-2015       other vegetables\n",
       "4               3037  01-02-2015             whole milk\n",
       "...              ...         ...                    ...\n",
       "38760           4471  08-10-2014          sliced cheese\n",
       "38761           2022  23-02-2014                  candy\n",
       "38762           1097  16-04-2014               cake bar\n",
       "38763           1510  03-12-2014  fruit/vegetable juice\n",
       "38764           1521  26-12-2014               cat food\n",
       "\n",
       "[38765 rows x 3 columns]"
      ]
     },
     "execution_count": 4,
     "metadata": {},
     "output_type": "execute_result"
    }
   ],
   "source": [
    "df"
   ]
  },
  {
   "cell_type": "code",
   "execution_count": 5,
   "id": "64b0dce6",
   "metadata": {},
   "outputs": [
    {
     "data": {
      "text/plain": [
       "Member_number      0\n",
       "Date               0\n",
       "itemDescription    0\n",
       "dtype: int64"
      ]
     },
     "execution_count": 5,
     "metadata": {},
     "output_type": "execute_result"
    }
   ],
   "source": [
    "df.isnull().sum()"
   ]
  },
  {
   "cell_type": "code",
   "execution_count": 6,
   "id": "a667ced3",
   "metadata": {},
   "outputs": [
    {
     "name": "stdout",
     "output_type": "stream",
     "text": [
      "<class 'pandas.core.frame.DataFrame'>\n",
      "RangeIndex: 38765 entries, 0 to 38764\n",
      "Data columns (total 3 columns):\n",
      " #   Column           Non-Null Count  Dtype \n",
      "---  ------           --------------  ----- \n",
      " 0   Member_number    38765 non-null  int64 \n",
      " 1   Date             38765 non-null  object\n",
      " 2   itemDescription  38765 non-null  object\n",
      "dtypes: int64(1), object(2)\n",
      "memory usage: 908.7+ KB\n"
     ]
    }
   ],
   "source": [
    "df.info()"
   ]
  },
  {
   "cell_type": "markdown",
   "id": "01a0398d",
   "metadata": {},
   "source": [
    "Date is type of object we will transform it to datetime"
   ]
  },
  {
   "cell_type": "code",
   "execution_count": 7,
   "id": "a4c15230",
   "metadata": {},
   "outputs": [],
   "source": [
    "df[\"Date\"] = pd.to_datetime(df[\"Date\"])"
   ]
  },
  {
   "cell_type": "code",
   "execution_count": 8,
   "id": "78a40e1d",
   "metadata": {},
   "outputs": [
    {
     "name": "stdout",
     "output_type": "stream",
     "text": [
      "<class 'pandas.core.frame.DataFrame'>\n",
      "RangeIndex: 38765 entries, 0 to 38764\n",
      "Data columns (total 3 columns):\n",
      " #   Column           Non-Null Count  Dtype         \n",
      "---  ------           --------------  -----         \n",
      " 0   Member_number    38765 non-null  int64         \n",
      " 1   Date             38765 non-null  datetime64[ns]\n",
      " 2   itemDescription  38765 non-null  object        \n",
      "dtypes: datetime64[ns](1), int64(1), object(1)\n",
      "memory usage: 908.7+ KB\n"
     ]
    }
   ],
   "source": [
    "df.info()"
   ]
  },
  {
   "cell_type": "code",
   "execution_count": 9,
   "id": "bfda5ef5",
   "metadata": {},
   "outputs": [
    {
     "data": {
      "text/plain": [
       "167"
      ]
     },
     "execution_count": 9,
     "metadata": {},
     "output_type": "execute_result"
    }
   ],
   "source": [
    "df[\"itemDescription\"].nunique()             # 167 different types of item we have"
   ]
  },
  {
   "cell_type": "code",
   "execution_count": 10,
   "id": "b9463da8",
   "metadata": {},
   "outputs": [
    {
     "data": {
      "text/plain": [
       "728"
      ]
     },
     "execution_count": 10,
     "metadata": {},
     "output_type": "execute_result"
    }
   ],
   "source": [
    "df[\"Date\"].nunique()                     # 728 different days"
   ]
  },
  {
   "cell_type": "code",
   "execution_count": 11,
   "id": "dd87a5c3",
   "metadata": {},
   "outputs": [],
   "source": [
    "df[\"day\"] = (df[\"Date\"]).dt.day\n",
    "df[\"month\"] = (df[\"Date\"]).dt.month\n",
    "df[\"year\"] = (df[\"Date\"]).dt.year                # Added day month and year columns"
   ]
  },
  {
   "cell_type": "code",
   "execution_count": 12,
   "id": "bc1e7197",
   "metadata": {},
   "outputs": [
    {
     "data": {
      "text/html": [
       "<div>\n",
       "<style scoped>\n",
       "    .dataframe tbody tr th:only-of-type {\n",
       "        vertical-align: middle;\n",
       "    }\n",
       "\n",
       "    .dataframe tbody tr th {\n",
       "        vertical-align: top;\n",
       "    }\n",
       "\n",
       "    .dataframe thead th {\n",
       "        text-align: right;\n",
       "    }\n",
       "</style>\n",
       "<table border=\"1\" class=\"dataframe\">\n",
       "  <thead>\n",
       "    <tr style=\"text-align: right;\">\n",
       "      <th></th>\n",
       "      <th>Member_number</th>\n",
       "      <th>Date</th>\n",
       "      <th>itemDescription</th>\n",
       "      <th>day</th>\n",
       "      <th>month</th>\n",
       "      <th>year</th>\n",
       "    </tr>\n",
       "  </thead>\n",
       "  <tbody>\n",
       "    <tr>\n",
       "      <th>0</th>\n",
       "      <td>1808</td>\n",
       "      <td>2015-07-21</td>\n",
       "      <td>tropical fruit</td>\n",
       "      <td>21</td>\n",
       "      <td>7</td>\n",
       "      <td>2015</td>\n",
       "    </tr>\n",
       "    <tr>\n",
       "      <th>1</th>\n",
       "      <td>2552</td>\n",
       "      <td>2015-05-01</td>\n",
       "      <td>whole milk</td>\n",
       "      <td>1</td>\n",
       "      <td>5</td>\n",
       "      <td>2015</td>\n",
       "    </tr>\n",
       "    <tr>\n",
       "      <th>2</th>\n",
       "      <td>2300</td>\n",
       "      <td>2015-09-19</td>\n",
       "      <td>pip fruit</td>\n",
       "      <td>19</td>\n",
       "      <td>9</td>\n",
       "      <td>2015</td>\n",
       "    </tr>\n",
       "    <tr>\n",
       "      <th>3</th>\n",
       "      <td>1187</td>\n",
       "      <td>2015-12-12</td>\n",
       "      <td>other vegetables</td>\n",
       "      <td>12</td>\n",
       "      <td>12</td>\n",
       "      <td>2015</td>\n",
       "    </tr>\n",
       "    <tr>\n",
       "      <th>4</th>\n",
       "      <td>3037</td>\n",
       "      <td>2015-01-02</td>\n",
       "      <td>whole milk</td>\n",
       "      <td>2</td>\n",
       "      <td>1</td>\n",
       "      <td>2015</td>\n",
       "    </tr>\n",
       "    <tr>\n",
       "      <th>...</th>\n",
       "      <td>...</td>\n",
       "      <td>...</td>\n",
       "      <td>...</td>\n",
       "      <td>...</td>\n",
       "      <td>...</td>\n",
       "      <td>...</td>\n",
       "    </tr>\n",
       "    <tr>\n",
       "      <th>38760</th>\n",
       "      <td>4471</td>\n",
       "      <td>2014-08-10</td>\n",
       "      <td>sliced cheese</td>\n",
       "      <td>10</td>\n",
       "      <td>8</td>\n",
       "      <td>2014</td>\n",
       "    </tr>\n",
       "    <tr>\n",
       "      <th>38761</th>\n",
       "      <td>2022</td>\n",
       "      <td>2014-02-23</td>\n",
       "      <td>candy</td>\n",
       "      <td>23</td>\n",
       "      <td>2</td>\n",
       "      <td>2014</td>\n",
       "    </tr>\n",
       "    <tr>\n",
       "      <th>38762</th>\n",
       "      <td>1097</td>\n",
       "      <td>2014-04-16</td>\n",
       "      <td>cake bar</td>\n",
       "      <td>16</td>\n",
       "      <td>4</td>\n",
       "      <td>2014</td>\n",
       "    </tr>\n",
       "    <tr>\n",
       "      <th>38763</th>\n",
       "      <td>1510</td>\n",
       "      <td>2014-03-12</td>\n",
       "      <td>fruit/vegetable juice</td>\n",
       "      <td>12</td>\n",
       "      <td>3</td>\n",
       "      <td>2014</td>\n",
       "    </tr>\n",
       "    <tr>\n",
       "      <th>38764</th>\n",
       "      <td>1521</td>\n",
       "      <td>2014-12-26</td>\n",
       "      <td>cat food</td>\n",
       "      <td>26</td>\n",
       "      <td>12</td>\n",
       "      <td>2014</td>\n",
       "    </tr>\n",
       "  </tbody>\n",
       "</table>\n",
       "<p>38765 rows × 6 columns</p>\n",
       "</div>"
      ],
      "text/plain": [
       "       Member_number       Date        itemDescription  day  month  year\n",
       "0               1808 2015-07-21         tropical fruit   21      7  2015\n",
       "1               2552 2015-05-01             whole milk    1      5  2015\n",
       "2               2300 2015-09-19              pip fruit   19      9  2015\n",
       "3               1187 2015-12-12       other vegetables   12     12  2015\n",
       "4               3037 2015-01-02             whole milk    2      1  2015\n",
       "...              ...        ...                    ...  ...    ...   ...\n",
       "38760           4471 2014-08-10          sliced cheese   10      8  2014\n",
       "38761           2022 2014-02-23                  candy   23      2  2014\n",
       "38762           1097 2014-04-16               cake bar   16      4  2014\n",
       "38763           1510 2014-03-12  fruit/vegetable juice   12      3  2014\n",
       "38764           1521 2014-12-26               cat food   26     12  2014\n",
       "\n",
       "[38765 rows x 6 columns]"
      ]
     },
     "execution_count": 12,
     "metadata": {},
     "output_type": "execute_result"
    }
   ],
   "source": [
    "df"
   ]
  },
  {
   "cell_type": "code",
   "execution_count": 13,
   "id": "87c4e2a3",
   "metadata": {},
   "outputs": [],
   "source": [
    "df[\"month_name\"] = (df[\"Date\"]).dt.month_name()\n",
    "df[\"weekday\"] = (df[\"Date\"]).dt.day_name()                     # Added name of the day and month"
   ]
  },
  {
   "cell_type": "code",
   "execution_count": 14,
   "id": "1a445feb",
   "metadata": {},
   "outputs": [
    {
     "data": {
      "text/html": [
       "<div>\n",
       "<style scoped>\n",
       "    .dataframe tbody tr th:only-of-type {\n",
       "        vertical-align: middle;\n",
       "    }\n",
       "\n",
       "    .dataframe tbody tr th {\n",
       "        vertical-align: top;\n",
       "    }\n",
       "\n",
       "    .dataframe thead th {\n",
       "        text-align: right;\n",
       "    }\n",
       "</style>\n",
       "<table border=\"1\" class=\"dataframe\">\n",
       "  <thead>\n",
       "    <tr style=\"text-align: right;\">\n",
       "      <th></th>\n",
       "      <th>Member_number</th>\n",
       "      <th>Date</th>\n",
       "      <th>itemDescription</th>\n",
       "      <th>day</th>\n",
       "      <th>month</th>\n",
       "      <th>year</th>\n",
       "      <th>month_name</th>\n",
       "      <th>weekday</th>\n",
       "    </tr>\n",
       "  </thead>\n",
       "  <tbody>\n",
       "    <tr>\n",
       "      <th>0</th>\n",
       "      <td>1808</td>\n",
       "      <td>2015-07-21</td>\n",
       "      <td>tropical fruit</td>\n",
       "      <td>21</td>\n",
       "      <td>7</td>\n",
       "      <td>2015</td>\n",
       "      <td>July</td>\n",
       "      <td>Tuesday</td>\n",
       "    </tr>\n",
       "    <tr>\n",
       "      <th>1</th>\n",
       "      <td>2552</td>\n",
       "      <td>2015-05-01</td>\n",
       "      <td>whole milk</td>\n",
       "      <td>1</td>\n",
       "      <td>5</td>\n",
       "      <td>2015</td>\n",
       "      <td>May</td>\n",
       "      <td>Friday</td>\n",
       "    </tr>\n",
       "    <tr>\n",
       "      <th>2</th>\n",
       "      <td>2300</td>\n",
       "      <td>2015-09-19</td>\n",
       "      <td>pip fruit</td>\n",
       "      <td>19</td>\n",
       "      <td>9</td>\n",
       "      <td>2015</td>\n",
       "      <td>September</td>\n",
       "      <td>Saturday</td>\n",
       "    </tr>\n",
       "    <tr>\n",
       "      <th>3</th>\n",
       "      <td>1187</td>\n",
       "      <td>2015-12-12</td>\n",
       "      <td>other vegetables</td>\n",
       "      <td>12</td>\n",
       "      <td>12</td>\n",
       "      <td>2015</td>\n",
       "      <td>December</td>\n",
       "      <td>Saturday</td>\n",
       "    </tr>\n",
       "    <tr>\n",
       "      <th>4</th>\n",
       "      <td>3037</td>\n",
       "      <td>2015-01-02</td>\n",
       "      <td>whole milk</td>\n",
       "      <td>2</td>\n",
       "      <td>1</td>\n",
       "      <td>2015</td>\n",
       "      <td>January</td>\n",
       "      <td>Friday</td>\n",
       "    </tr>\n",
       "    <tr>\n",
       "      <th>...</th>\n",
       "      <td>...</td>\n",
       "      <td>...</td>\n",
       "      <td>...</td>\n",
       "      <td>...</td>\n",
       "      <td>...</td>\n",
       "      <td>...</td>\n",
       "      <td>...</td>\n",
       "      <td>...</td>\n",
       "    </tr>\n",
       "    <tr>\n",
       "      <th>38760</th>\n",
       "      <td>4471</td>\n",
       "      <td>2014-08-10</td>\n",
       "      <td>sliced cheese</td>\n",
       "      <td>10</td>\n",
       "      <td>8</td>\n",
       "      <td>2014</td>\n",
       "      <td>August</td>\n",
       "      <td>Sunday</td>\n",
       "    </tr>\n",
       "    <tr>\n",
       "      <th>38761</th>\n",
       "      <td>2022</td>\n",
       "      <td>2014-02-23</td>\n",
       "      <td>candy</td>\n",
       "      <td>23</td>\n",
       "      <td>2</td>\n",
       "      <td>2014</td>\n",
       "      <td>February</td>\n",
       "      <td>Sunday</td>\n",
       "    </tr>\n",
       "    <tr>\n",
       "      <th>38762</th>\n",
       "      <td>1097</td>\n",
       "      <td>2014-04-16</td>\n",
       "      <td>cake bar</td>\n",
       "      <td>16</td>\n",
       "      <td>4</td>\n",
       "      <td>2014</td>\n",
       "      <td>April</td>\n",
       "      <td>Wednesday</td>\n",
       "    </tr>\n",
       "    <tr>\n",
       "      <th>38763</th>\n",
       "      <td>1510</td>\n",
       "      <td>2014-03-12</td>\n",
       "      <td>fruit/vegetable juice</td>\n",
       "      <td>12</td>\n",
       "      <td>3</td>\n",
       "      <td>2014</td>\n",
       "      <td>March</td>\n",
       "      <td>Wednesday</td>\n",
       "    </tr>\n",
       "    <tr>\n",
       "      <th>38764</th>\n",
       "      <td>1521</td>\n",
       "      <td>2014-12-26</td>\n",
       "      <td>cat food</td>\n",
       "      <td>26</td>\n",
       "      <td>12</td>\n",
       "      <td>2014</td>\n",
       "      <td>December</td>\n",
       "      <td>Friday</td>\n",
       "    </tr>\n",
       "  </tbody>\n",
       "</table>\n",
       "<p>38765 rows × 8 columns</p>\n",
       "</div>"
      ],
      "text/plain": [
       "       Member_number       Date        itemDescription  day  month  year  \\\n",
       "0               1808 2015-07-21         tropical fruit   21      7  2015   \n",
       "1               2552 2015-05-01             whole milk    1      5  2015   \n",
       "2               2300 2015-09-19              pip fruit   19      9  2015   \n",
       "3               1187 2015-12-12       other vegetables   12     12  2015   \n",
       "4               3037 2015-01-02             whole milk    2      1  2015   \n",
       "...              ...        ...                    ...  ...    ...   ...   \n",
       "38760           4471 2014-08-10          sliced cheese   10      8  2014   \n",
       "38761           2022 2014-02-23                  candy   23      2  2014   \n",
       "38762           1097 2014-04-16               cake bar   16      4  2014   \n",
       "38763           1510 2014-03-12  fruit/vegetable juice   12      3  2014   \n",
       "38764           1521 2014-12-26               cat food   26     12  2014   \n",
       "\n",
       "      month_name    weekday  \n",
       "0           July    Tuesday  \n",
       "1            May     Friday  \n",
       "2      September   Saturday  \n",
       "3       December   Saturday  \n",
       "4        January     Friday  \n",
       "...          ...        ...  \n",
       "38760     August     Sunday  \n",
       "38761   February     Sunday  \n",
       "38762      April  Wednesday  \n",
       "38763      March  Wednesday  \n",
       "38764   December     Friday  \n",
       "\n",
       "[38765 rows x 8 columns]"
      ]
     },
     "execution_count": 14,
     "metadata": {},
     "output_type": "execute_result"
    }
   ],
   "source": [
    "df"
   ]
  },
  {
   "cell_type": "code",
   "execution_count": 15,
   "id": "e9ef10c7",
   "metadata": {},
   "outputs": [
    {
     "name": "stdout",
     "output_type": "stream",
     "text": [
      "<class 'pandas.core.frame.DataFrame'>\n",
      "RangeIndex: 38765 entries, 0 to 38764\n",
      "Data columns (total 8 columns):\n",
      " #   Column           Non-Null Count  Dtype         \n",
      "---  ------           --------------  -----         \n",
      " 0   Member_number    38765 non-null  int64         \n",
      " 1   Date             38765 non-null  datetime64[ns]\n",
      " 2   itemDescription  38765 non-null  object        \n",
      " 3   day              38765 non-null  int64         \n",
      " 4   month            38765 non-null  int64         \n",
      " 5   year             38765 non-null  int64         \n",
      " 6   month_name       38765 non-null  object        \n",
      " 7   weekday          38765 non-null  object        \n",
      "dtypes: datetime64[ns](1), int64(4), object(3)\n",
      "memory usage: 2.4+ MB\n"
     ]
    }
   ],
   "source": [
    "df.info()"
   ]
  },
  {
   "cell_type": "code",
   "execution_count": 16,
   "id": "04e89606",
   "metadata": {},
   "outputs": [],
   "source": [
    "import matplotlib.pyplot as plt\n",
    "import seaborn as sns\n",
    "import warnings\n",
    "warnings.filterwarnings(\"ignore\")"
   ]
  },
  {
   "cell_type": "code",
   "execution_count": 17,
   "id": "722addbf",
   "metadata": {},
   "outputs": [
    {
     "data": {
      "text/plain": [
       "Text(0.5, 1.0, 'Monthly Sales')"
      ]
     },
     "execution_count": 17,
     "metadata": {},
     "output_type": "execute_result"
    },
    {
     "data": {
      "image/png": "[encoded data removed]",
      "text/plain": [
       "<Figure size 1080x504 with 1 Axes>"
      ]
     },
     "metadata": {
      "needs_background": "light"
     },
     "output_type": "display_data"
    }
   ],
   "source": [
    "plt.figure(figsize=(15,7))\n",
    "sns.countplot(df[\"month_name\"])\n",
    "plt.title(\"Monthly Sales\")"
   ]
  },
  {
   "cell_type": "code",
   "execution_count": 18,
   "id": "02e264d8",
   "metadata": {},
   "outputs": [
    {
     "data": {
      "text/plain": [
       "Text(0.5, 1.0, 'weekday')"
      ]
     },
     "execution_count": 18,
     "metadata": {},
     "output_type": "execute_result"
    },
    {
     "data": {
      "image/png": "[encoded data removed]",
      "text/plain": [
       "<Figure size 1080x504 with 1 Axes>"
      ]
     },
     "metadata": {
      "needs_background": "light"
     },
     "output_type": "display_data"
    }
   ],
   "source": [
    "plt.figure(figsize=(15,7))\n",
    "sns.countplot(df[\"weekday\"])\n",
    "plt.title(\"weekday\")"
   ]
  },
  {
   "cell_type": "code",
   "execution_count": 19,
   "id": "92cc8c13",
   "metadata": {},
   "outputs": [
    {
     "data": {
      "text/plain": [
       "whole milk               2502\n",
       "other vegetables         1898\n",
       "rolls/buns               1716\n",
       "soda                     1514\n",
       "yogurt                   1334\n",
       "                         ... \n",
       "rubbing alcohol             5\n",
       "bags                        4\n",
       "baby cosmetics              3\n",
       "kitchen utensil             1\n",
       "preservation products       1\n",
       "Name: itemDescription, Length: 167, dtype: int64"
      ]
     },
     "execution_count": 19,
     "metadata": {},
     "output_type": "execute_result"
    }
   ],
   "source": [
    "a = df[\"itemDescription\"].value_counts()\n",
    "a"
   ]
  },
  {
   "cell_type": "code",
   "execution_count": 20,
   "id": "3583a5f3",
   "metadata": {},
   "outputs": [
    {
     "data": {
      "text/plain": [
       "whole milk               25.02\n",
       "other vegetables         18.98\n",
       "rolls/buns               17.16\n",
       "soda                     15.14\n",
       "yogurt                   13.34\n",
       "                         ...  \n",
       "rubbing alcohol           0.05\n",
       "bags                      0.04\n",
       "baby cosmetics            0.03\n",
       "kitchen utensil           0.01\n",
       "preservation products     0.01\n",
       "Name: itemDescription, Length: 167, dtype: float64"
      ]
     },
     "execution_count": 20,
     "metadata": {},
     "output_type": "execute_result"
    }
   ],
   "source": [
    "a/100                          # We can see the percantages"
   ]
  },
  {
   "cell_type": "code",
   "execution_count": 21,
   "id": "3139087b",
   "metadata": {},
   "outputs": [],
   "source": [
    "b = a.head(10)"
   ]
  },
  {
   "cell_type": "code",
   "execution_count": 22,
   "id": "7a9b4b5a",
   "metadata": {},
   "outputs": [
    {
     "data": {
      "text/plain": [
       "whole milk          2502\n",
       "other vegetables    1898\n",
       "rolls/buns          1716\n",
       "soda                1514\n",
       "yogurt              1334\n",
       "root vegetables     1071\n",
       "tropical fruit      1032\n",
       "bottled water        933\n",
       "sausage              924\n",
       "citrus fruit         812\n",
       "Name: itemDescription, dtype: int64"
      ]
     },
     "execution_count": 22,
     "metadata": {},
     "output_type": "execute_result"
    }
   ],
   "source": [
    "b"
   ]
  },
  {
   "cell_type": "code",
   "execution_count": 23,
   "id": "5dd3f2ea",
   "metadata": {},
   "outputs": [],
   "source": [
    "df2 = pd.DataFrame(b)"
   ]
  },
  {
   "cell_type": "code",
   "execution_count": 24,
   "id": "457104ae",
   "metadata": {},
   "outputs": [
    {
     "data": {
      "text/html": [
       "<div>\n",
       "<style scoped>\n",
       "    .dataframe tbody tr th:only-of-type {\n",
       "        vertical-align: middle;\n",
       "    }\n",
       "\n",
       "    .dataframe tbody tr th {\n",
       "        vertical-align: top;\n",
       "    }\n",
       "\n",
       "    .dataframe thead th {\n",
       "        text-align: right;\n",
       "    }\n",
       "</style>\n",
       "<table border=\"1\" class=\"dataframe\">\n",
       "  <thead>\n",
       "    <tr style=\"text-align: right;\">\n",
       "      <th></th>\n",
       "      <th>itemDescription</th>\n",
       "    </tr>\n",
       "  </thead>\n",
       "  <tbody>\n",
       "    <tr>\n",
       "      <th>whole milk</th>\n",
       "      <td>2502</td>\n",
       "    </tr>\n",
       "    <tr>\n",
       "      <th>other vegetables</th>\n",
       "      <td>1898</td>\n",
       "    </tr>\n",
       "    <tr>\n",
       "      <th>rolls/buns</th>\n",
       "      <td>1716</td>\n",
       "    </tr>\n",
       "    <tr>\n",
       "      <th>soda</th>\n",
       "      <td>1514</td>\n",
       "    </tr>\n",
       "    <tr>\n",
       "      <th>yogurt</th>\n",
       "      <td>1334</td>\n",
       "    </tr>\n",
       "    <tr>\n",
       "      <th>root vegetables</th>\n",
       "      <td>1071</td>\n",
       "    </tr>\n",
       "    <tr>\n",
       "      <th>tropical fruit</th>\n",
       "      <td>1032</td>\n",
       "    </tr>\n",
       "    <tr>\n",
       "      <th>bottled water</th>\n",
       "      <td>933</td>\n",
       "    </tr>\n",
       "    <tr>\n",
       "      <th>sausage</th>\n",
       "      <td>924</td>\n",
       "    </tr>\n",
       "    <tr>\n",
       "      <th>citrus fruit</th>\n",
       "      <td>812</td>\n",
       "    </tr>\n",
       "  </tbody>\n",
       "</table>\n",
       "</div>"
      ],
      "text/plain": [
       "                  itemDescription\n",
       "whole milk                   2502\n",
       "other vegetables             1898\n",
       "rolls/buns                   1716\n",
       "soda                         1514\n",
       "yogurt                       1334\n",
       "root vegetables              1071\n",
       "tropical fruit               1032\n",
       "bottled water                 933\n",
       "sausage                       924\n",
       "citrus fruit                  812"
      ]
     },
     "execution_count": 24,
     "metadata": {},
     "output_type": "execute_result"
    }
   ],
   "source": [
    "df2"
   ]
  },
  {
   "cell_type": "code",
   "execution_count": 25,
   "id": "7cbe182b",
   "metadata": {},
   "outputs": [
    {
     "data": {
      "image/png": "[encoded data removed]",
      "text/plain": [
       "<Figure size 1080x504 with 1 Axes>"
      ]
     },
     "metadata": {
      "needs_background": "light"
     },
     "output_type": "display_data"
    }
   ],
   "source": [
    "plt.figure(figsize=(15,7))\n",
    "sns.barplot(x = df2.index, y = df2[\"itemDescription\"]); "
   ]
  },
  {
   "cell_type": "code",
   "execution_count": 26,
   "id": "3b7f9af7",
   "metadata": {},
   "outputs": [],
   "source": [
    "df3 = df.set_index([\"Date\"])"
   ]
  },
  {
   "cell_type": "code",
   "execution_count": 27,
   "id": "5305ed4b",
   "metadata": {},
   "outputs": [
    {
     "data": {
      "text/html": [
       "<div>\n",
       "<style scoped>\n",
       "    .dataframe tbody tr th:only-of-type {\n",
       "        vertical-align: middle;\n",
       "    }\n",
       "\n",
       "    .dataframe tbody tr th {\n",
       "        vertical-align: top;\n",
       "    }\n",
       "\n",
       "    .dataframe thead th {\n",
       "        text-align: right;\n",
       "    }\n",
       "</style>\n",
       "<table border=\"1\" class=\"dataframe\">\n",
       "  <thead>\n",
       "    <tr style=\"text-align: right;\">\n",
       "      <th></th>\n",
       "      <th>Member_number</th>\n",
       "      <th>itemDescription</th>\n",
       "      <th>day</th>\n",
       "      <th>month</th>\n",
       "      <th>year</th>\n",
       "      <th>month_name</th>\n",
       "      <th>weekday</th>\n",
       "    </tr>\n",
       "    <tr>\n",
       "      <th>Date</th>\n",
       "      <th></th>\n",
       "      <th></th>\n",
       "      <th></th>\n",
       "      <th></th>\n",
       "      <th></th>\n",
       "      <th></th>\n",
       "      <th></th>\n",
       "    </tr>\n",
       "  </thead>\n",
       "  <tbody>\n",
       "    <tr>\n",
       "      <th>2015-07-21</th>\n",
       "      <td>1808</td>\n",
       "      <td>tropical fruit</td>\n",
       "      <td>21</td>\n",
       "      <td>7</td>\n",
       "      <td>2015</td>\n",
       "      <td>July</td>\n",
       "      <td>Tuesday</td>\n",
       "    </tr>\n",
       "    <tr>\n",
       "      <th>2015-05-01</th>\n",
       "      <td>2552</td>\n",
       "      <td>whole milk</td>\n",
       "      <td>1</td>\n",
       "      <td>5</td>\n",
       "      <td>2015</td>\n",
       "      <td>May</td>\n",
       "      <td>Friday</td>\n",
       "    </tr>\n",
       "    <tr>\n",
       "      <th>2015-09-19</th>\n",
       "      <td>2300</td>\n",
       "      <td>pip fruit</td>\n",
       "      <td>19</td>\n",
       "      <td>9</td>\n",
       "      <td>2015</td>\n",
       "      <td>September</td>\n",
       "      <td>Saturday</td>\n",
       "    </tr>\n",
       "    <tr>\n",
       "      <th>2015-12-12</th>\n",
       "      <td>1187</td>\n",
       "      <td>other vegetables</td>\n",
       "      <td>12</td>\n",
       "      <td>12</td>\n",
       "      <td>2015</td>\n",
       "      <td>December</td>\n",
       "      <td>Saturday</td>\n",
       "    </tr>\n",
       "    <tr>\n",
       "      <th>2015-01-02</th>\n",
       "      <td>3037</td>\n",
       "      <td>whole milk</td>\n",
       "      <td>2</td>\n",
       "      <td>1</td>\n",
       "      <td>2015</td>\n",
       "      <td>January</td>\n",
       "      <td>Friday</td>\n",
       "    </tr>\n",
       "    <tr>\n",
       "      <th>...</th>\n",
       "      <td>...</td>\n",
       "      <td>...</td>\n",
       "      <td>...</td>\n",
       "      <td>...</td>\n",
       "      <td>...</td>\n",
       "      <td>...</td>\n",
       "      <td>...</td>\n",
       "    </tr>\n",
       "    <tr>\n",
       "      <th>2014-08-10</th>\n",
       "      <td>4471</td>\n",
       "      <td>sliced cheese</td>\n",
       "      <td>10</td>\n",
       "      <td>8</td>\n",
       "      <td>2014</td>\n",
       "      <td>August</td>\n",
       "      <td>Sunday</td>\n",
       "    </tr>\n",
       "    <tr>\n",
       "      <th>2014-02-23</th>\n",
       "      <td>2022</td>\n",
       "      <td>candy</td>\n",
       "      <td>23</td>\n",
       "      <td>2</td>\n",
       "      <td>2014</td>\n",
       "      <td>February</td>\n",
       "      <td>Sunday</td>\n",
       "    </tr>\n",
       "    <tr>\n",
       "      <th>2014-04-16</th>\n",
       "      <td>1097</td>\n",
       "      <td>cake bar</td>\n",
       "      <td>16</td>\n",
       "      <td>4</td>\n",
       "      <td>2014</td>\n",
       "      <td>April</td>\n",
       "      <td>Wednesday</td>\n",
       "    </tr>\n",
       "    <tr>\n",
       "      <th>2014-03-12</th>\n",
       "      <td>1510</td>\n",
       "      <td>fruit/vegetable juice</td>\n",
       "      <td>12</td>\n",
       "      <td>3</td>\n",
       "      <td>2014</td>\n",
       "      <td>March</td>\n",
       "      <td>Wednesday</td>\n",
       "    </tr>\n",
       "    <tr>\n",
       "      <th>2014-12-26</th>\n",
       "      <td>1521</td>\n",
       "      <td>cat food</td>\n",
       "      <td>26</td>\n",
       "      <td>12</td>\n",
       "      <td>2014</td>\n",
       "      <td>December</td>\n",
       "      <td>Friday</td>\n",
       "    </tr>\n",
       "  </tbody>\n",
       "</table>\n",
       "<p>38765 rows × 7 columns</p>\n",
       "</div>"
      ],
      "text/plain": [
       "            Member_number        itemDescription  day  month  year month_name  \\\n",
       "Date                                                                            \n",
       "2015-07-21           1808         tropical fruit   21      7  2015       July   \n",
       "2015-05-01           2552             whole milk    1      5  2015        May   \n",
       "2015-09-19           2300              pip fruit   19      9  2015  September   \n",
       "2015-12-12           1187       other vegetables   12     12  2015   December   \n",
       "2015-01-02           3037             whole milk    2      1  2015    January   \n",
       "...                   ...                    ...  ...    ...   ...        ...   \n",
       "2014-08-10           4471          sliced cheese   10      8  2014     August   \n",
       "2014-02-23           2022                  candy   23      2  2014   February   \n",
       "2014-04-16           1097               cake bar   16      4  2014      April   \n",
       "2014-03-12           1510  fruit/vegetable juice   12      3  2014      March   \n",
       "2014-12-26           1521               cat food   26     12  2014   December   \n",
       "\n",
       "              weekday  \n",
       "Date                   \n",
       "2015-07-21    Tuesday  \n",
       "2015-05-01     Friday  \n",
       "2015-09-19   Saturday  \n",
       "2015-12-12   Saturday  \n",
       "2015-01-02     Friday  \n",
       "...               ...  \n",
       "2014-08-10     Sunday  \n",
       "2014-02-23     Sunday  \n",
       "2014-04-16  Wednesday  \n",
       "2014-03-12  Wednesday  \n",
       "2014-12-26     Friday  \n",
       "\n",
       "[38765 rows x 7 columns]"
      ]
     },
     "execution_count": 27,
     "metadata": {},
     "output_type": "execute_result"
    }
   ],
   "source": [
    "df3"
   ]
  },
  {
   "cell_type": "code",
   "execution_count": 28,
   "id": "96e9e157",
   "metadata": {},
   "outputs": [
    {
     "data": {
      "text/plain": [
       "<AxesSubplot:title={'center':'Numbers of Items Sold by Month'}, xlabel='Date'>"
      ]
     },
     "execution_count": 28,
     "metadata": {},
     "output_type": "execute_result"
    },
    {
     "data": {
      "image/png": "[encoded data removed]",
      "text/plain": [
       "<Figure size 1080x504 with 1 Axes>"
      ]
     },
     "metadata": {
      "needs_background": "light"
     },
     "output_type": "display_data"
    }
   ],
   "source": [
    "df3.resample(\"M\")['itemDescription'].count().plot(figsize = (15,7), title = \"Numbers of Items Sold by Month\")"
   ]
  },
  {
   "cell_type": "markdown",
   "id": "26af84b8",
   "metadata": {},
   "source": [
    "### Prepearing the data for Apyori"
   ]
  },
  {
   "cell_type": "code",
   "execution_count": 29,
   "id": "b48c6bf9",
   "metadata": {},
   "outputs": [],
   "source": [
    "df4 = df[[\"Member_number\",\"itemDescription\"]].sort_values(by = \"Member_number\", ascending = False)"
   ]
  },
  {
   "cell_type": "code",
   "execution_count": 30,
   "id": "14722cec",
   "metadata": {},
   "outputs": [
    {
     "data": {
      "text/html": [
       "<div>\n",
       "<style scoped>\n",
       "    .dataframe tbody tr th:only-of-type {\n",
       "        vertical-align: middle;\n",
       "    }\n",
       "\n",
       "    .dataframe tbody tr th {\n",
       "        vertical-align: top;\n",
       "    }\n",
       "\n",
       "    .dataframe thead th {\n",
       "        text-align: right;\n",
       "    }\n",
       "</style>\n",
       "<table border=\"1\" class=\"dataframe\">\n",
       "  <thead>\n",
       "    <tr style=\"text-align: right;\">\n",
       "      <th></th>\n",
       "      <th>Member_number</th>\n",
       "      <th>itemDescription</th>\n",
       "    </tr>\n",
       "  </thead>\n",
       "  <tbody>\n",
       "    <tr>\n",
       "      <th>3578</th>\n",
       "      <td>5000</td>\n",
       "      <td>soda</td>\n",
       "    </tr>\n",
       "    <tr>\n",
       "      <th>34885</th>\n",
       "      <td>5000</td>\n",
       "      <td>semi-finished bread</td>\n",
       "    </tr>\n",
       "    <tr>\n",
       "      <th>11728</th>\n",
       "      <td>5000</td>\n",
       "      <td>fruit/vegetable juice</td>\n",
       "    </tr>\n",
       "    <tr>\n",
       "      <th>9340</th>\n",
       "      <td>5000</td>\n",
       "      <td>bottled beer</td>\n",
       "    </tr>\n",
       "    <tr>\n",
       "      <th>19727</th>\n",
       "      <td>5000</td>\n",
       "      <td>root vegetables</td>\n",
       "    </tr>\n",
       "    <tr>\n",
       "      <th>...</th>\n",
       "      <td>...</td>\n",
       "      <td>...</td>\n",
       "    </tr>\n",
       "    <tr>\n",
       "      <th>13331</th>\n",
       "      <td>1000</td>\n",
       "      <td>whole milk</td>\n",
       "    </tr>\n",
       "    <tr>\n",
       "      <th>17778</th>\n",
       "      <td>1000</td>\n",
       "      <td>pickled vegetables</td>\n",
       "    </tr>\n",
       "    <tr>\n",
       "      <th>6388</th>\n",
       "      <td>1000</td>\n",
       "      <td>sausage</td>\n",
       "    </tr>\n",
       "    <tr>\n",
       "      <th>20992</th>\n",
       "      <td>1000</td>\n",
       "      <td>semi-finished bread</td>\n",
       "    </tr>\n",
       "    <tr>\n",
       "      <th>8395</th>\n",
       "      <td>1000</td>\n",
       "      <td>whole milk</td>\n",
       "    </tr>\n",
       "  </tbody>\n",
       "</table>\n",
       "<p>38765 rows × 2 columns</p>\n",
       "</div>"
      ],
      "text/plain": [
       "       Member_number        itemDescription\n",
       "3578            5000                   soda\n",
       "34885           5000    semi-finished bread\n",
       "11728           5000  fruit/vegetable juice\n",
       "9340            5000           bottled beer\n",
       "19727           5000        root vegetables\n",
       "...              ...                    ...\n",
       "13331           1000             whole milk\n",
       "17778           1000     pickled vegetables\n",
       "6388            1000                sausage\n",
       "20992           1000    semi-finished bread\n",
       "8395            1000             whole milk\n",
       "\n",
       "[38765 rows x 2 columns]"
      ]
     },
     "execution_count": 30,
     "metadata": {},
     "output_type": "execute_result"
    }
   ],
   "source": [
    "df4"
   ]
  },
  {
   "cell_type": "code",
   "execution_count": 31,
   "id": "7dbd8cf1",
   "metadata": {},
   "outputs": [],
   "source": [
    "transaction_list = [a[1]['itemDescription'].tolist() \n",
    "                    for a in list(df4.groupby(['Member_number']))]  # Combining all the items in list format for each customer"
   ]
  },
  {
   "cell_type": "code",
   "execution_count": 32,
   "id": "ad18dd4b",
   "metadata": {},
   "outputs": [],
   "source": [
    "from apyori import apriori"
   ]
  },
  {
   "cell_type": "code",
   "execution_count": 33,
   "id": "4897d139",
   "metadata": {},
   "outputs": [],
   "source": [
    "rules = apriori(transactions = transaction_list, min_support = 0.002, min_confidence = 0.05, min_lift = 2.5, min_length = 2, max_length = 2) # Model Creation"
   ]
  },
  {
   "cell_type": "code",
   "execution_count": 34,
   "id": "895388ae",
   "metadata": {},
   "outputs": [],
   "source": [
    "results = list(rules)      # Storing results in list format for better visualisation"
   ]
  },
  {
   "cell_type": "code",
   "execution_count": 35,
   "id": "33abe081",
   "metadata": {},
   "outputs": [
    {
     "data": {
      "text/plain": [
       "[RelationRecord(items=frozenset({'kitchen towels', 'UHT-milk'}), support=0.002308876346844536, ordered_statistics=[OrderedStatistic(items_base=frozenset({'kitchen towels'}), items_add=frozenset({'UHT-milk'}), confidence=0.30000000000000004, lift=3.821568627450981)]),\n",
       " RelationRecord(items=frozenset({'rice', 'UHT-milk'}), support=0.0028219599794766545, ordered_statistics=[OrderedStatistic(items_base=frozenset({'rice'}), items_add=frozenset({'UHT-milk'}), confidence=0.22448979591836735, lift=2.859677204215019)]),\n",
       " RelationRecord(items=frozenset({'frozen fish', 'baking powder'}), support=0.002308876346844536, ordered_statistics=[OrderedStatistic(items_base=frozenset({'baking powder'}), items_add=frozenset({'frozen fish'}), confidence=0.0743801652892562, lift=2.870632517797234), OrderedStatistic(items_base=frozenset({'frozen fish'}), items_add=frozenset({'baking powder'}), confidence=0.08910891089108912, lift=2.8706325177972345)]),\n",
       " RelationRecord(items=frozenset({'potato products', 'beef'}), support=0.002565418163160595, ordered_statistics=[OrderedStatistic(items_base=frozenset({'potato products'}), items_add=frozenset({'beef'}), confidence=0.4545454545454546, lift=3.8021849395239955)]),\n",
       " RelationRecord(items=frozenset({'coffee', 'canned fruit'}), support=0.002308876346844536, ordered_statistics=[OrderedStatistic(items_base=frozenset({'canned fruit'}), items_add=frozenset({'coffee'}), confidence=0.4285714285714286, lift=3.7289540816326534)]),\n",
       " RelationRecord(items=frozenset({'chicken', 'soups'}), support=0.0033350436121087736, ordered_statistics=[OrderedStatistic(items_base=frozenset({'soups'}), items_add=frozenset({'chicken'}), confidence=0.2708333333333333, lift=2.6931335034013606)]),\n",
       " RelationRecord(items=frozenset({'meat', 'chocolate marshmallow'}), support=0.002565418163160595, ordered_statistics=[OrderedStatistic(items_base=frozenset({'chocolate marshmallow'}), items_add=frozenset({'meat'}), confidence=0.16666666666666666, lift=2.6196236559139785)]),\n",
       " RelationRecord(items=frozenset({'pot plants', 'condensed milk'}), support=0.002052334530528476, ordered_statistics=[OrderedStatistic(items_base=frozenset({'condensed milk'}), items_add=frozenset({'pot plants'}), confidence=0.08602150537634408, lift=2.8906192065257694), OrderedStatistic(items_base=frozenset({'pot plants'}), items_add=frozenset({'condensed milk'}), confidence=0.06896551724137931, lift=2.8906192065257694)]),\n",
       " RelationRecord(items=frozenset({'processed cheese', 'condensed milk'}), support=0.002565418163160595, ordered_statistics=[OrderedStatistic(items_base=frozenset({'condensed milk'}), items_add=frozenset({'processed cheese'}), confidence=0.10752688172043011, lift=2.7942652329749107), OrderedStatistic(items_base=frozenset({'processed cheese'}), items_add=frozenset({'condensed milk'}), confidence=0.06666666666666667, lift=2.7942652329749107)]),\n",
       " RelationRecord(items=frozenset({'meat spreads', 'cream cheese '}), support=0.002052334530528476, ordered_statistics=[OrderedStatistic(items_base=frozenset({'meat spreads'}), items_add=frozenset({'cream cheese '}), confidence=0.22857142857142856, lift=2.5825258799171844)]),\n",
       " RelationRecord(items=frozenset({'liquor', 'dishes'}), support=0.002565418163160595, ordered_statistics=[OrderedStatistic(items_base=frozenset({'dishes'}), items_add=frozenset({'liquor'}), confidence=0.07518796992481203, lift=2.8454631724943424), OrderedStatistic(items_base=frozenset({'liquor'}), items_add=frozenset({'dishes'}), confidence=0.0970873786407767, lift=2.845463172494343)]),\n",
       " RelationRecord(items=frozenset({'meat spreads', 'domestic eggs'}), support=0.0035915854284248334, ordered_statistics=[OrderedStatistic(items_base=frozenset({'meat spreads'}), items_add=frozenset({'domestic eggs'}), confidence=0.4, lift=3.0042389210019267)]),\n",
       " RelationRecord(items=frozenset({'mayonnaise', 'flour'}), support=0.002308876346844536, ordered_statistics=[OrderedStatistic(items_base=frozenset({'flour'}), items_add=frozenset({'mayonnaise'}), confidence=0.06338028169014086, lift=3.3385991625428253), OrderedStatistic(items_base=frozenset({'mayonnaise'}), items_add=frozenset({'flour'}), confidence=0.12162162162162163, lift=3.338599162542825)]),\n",
       " RelationRecord(items=frozenset({'white wine', 'frozen potato products'}), support=0.002308876346844536, ordered_statistics=[OrderedStatistic(items_base=frozenset({'frozen potato products'}), items_add=frozenset({'white wine'}), confidence=0.125, lift=2.8328488372093026), OrderedStatistic(items_base=frozenset({'white wine'}), items_add=frozenset({'frozen potato products'}), confidence=0.05232558139534884, lift=2.832848837209302)]),\n",
       " RelationRecord(items=frozenset({'frozen vegetables', 'light bulbs'}), support=0.002052334530528476, ordered_statistics=[OrderedStatistic(items_base=frozenset({'light bulbs'}), items_add=frozenset({'frozen vegetables'}), confidence=0.2857142857142857, lift=2.784285714285714)]),\n",
       " RelationRecord(items=frozenset({'roll products ', 'hard cheese'}), support=0.0030785017957927143, ordered_statistics=[OrderedStatistic(items_base=frozenset({'hard cheese'}), items_add=frozenset({'roll products '}), confidence=0.057692307692307696, lift=2.8110576923076924), OrderedStatistic(items_base=frozenset({'roll products '}), items_add=frozenset({'hard cheese'}), confidence=0.15, lift=2.8110576923076924)]),\n",
       " RelationRecord(items=frozenset({'long life bakery product', 'house keeping products'}), support=0.002052334530528476, ordered_statistics=[OrderedStatistic(items_base=frozenset({'house keeping products'}), items_add=frozenset({'long life bakery product'}), confidence=0.17777777777777776, lift=2.71755991285403)]),\n",
       " RelationRecord(items=frozenset({'instant coffee', 'misc. beverages'}), support=0.002308876346844536, ordered_statistics=[OrderedStatistic(items_base=frozenset({'instant coffee'}), items_add=frozenset({'misc. beverages'}), confidence=0.15254237288135594, lift=2.5852616064848934)]),\n",
       " RelationRecord(items=frozenset({'napkins', 'rice'}), support=0.0030785017957927143, ordered_statistics=[OrderedStatistic(items_base=frozenset({'rice'}), items_add=frozenset({'napkins'}), confidence=0.2448979591836735, lift=3.011395094315329)]),\n",
       " RelationRecord(items=frozenset({'photo/film', 'white wine'}), support=0.002565418163160595, ordered_statistics=[OrderedStatistic(items_base=frozenset({'photo/film'}), items_add=frozenset({'white wine'}), confidence=0.12987012987012986, lift=2.943219571126548), OrderedStatistic(items_base=frozenset({'white wine'}), items_add=frozenset({'photo/film'}), confidence=0.05813953488372093, lift=2.9432195711265474)]),\n",
       " RelationRecord(items=frozenset({'pip fruit', 'syrup'}), support=0.002565418163160595, ordered_statistics=[OrderedStatistic(items_base=frozenset({'syrup'}), items_add=frozenset({'pip fruit'}), confidence=0.47619047619047616, lift=2.791263873970641)]),\n",
       " RelationRecord(items=frozenset({'turkey', 'processed cheese'}), support=0.002052334530528476, ordered_statistics=[OrderedStatistic(items_base=frozenset({'processed cheese'}), items_add=frozenset({'turkey'}), confidence=0.05333333333333333, lift=2.665299145299145), OrderedStatistic(items_base=frozenset({'turkey'}), items_add=frozenset({'processed cheese'}), confidence=0.10256410256410255, lift=2.665299145299145)]),\n",
       " RelationRecord(items=frozenset({'sparkling wine', 'waffles'}), support=0.002565418163160595, ordered_statistics=[OrderedStatistic(items_base=frozenset({'sparkling wine'}), items_add=frozenset({'waffles'}), confidence=0.21739130434782608, lift=3.1501535477614353)])]"
      ]
     },
     "execution_count": 35,
     "metadata": {},
     "output_type": "execute_result"
    }
   ],
   "source": [
    "results"
   ]
  },
  {
   "cell_type": "code",
   "execution_count": 36,
   "id": "93117577",
   "metadata": {},
   "outputs": [],
   "source": [
    "def inspect(results):\n",
    "    left         = [tuple(result[2][0][0])[0] for result in results]\n",
    "    right         = [tuple(result[2][0][1])[0] for result in results]\n",
    "    supports    = [result[1] for result in results]\n",
    "    confidences = [result[2][0][2] for result in results]\n",
    "    lifts       = [result[2][0][3] for result in results]\n",
    "    return list(zip(left, right, supports, confidences, lifts))\n",
    "final_df = pd.DataFrame(inspect(results), columns = ['Left Hand Side', 'Right Hand Side', 'Support', 'Confidence', 'Lift'])"
   ]
  },
  {
   "cell_type": "markdown",
   "id": "389c1ac4",
   "metadata": {},
   "source": [
    "### Lets see Apyori result"
   ]
  },
  {
   "cell_type": "code",
   "execution_count": 37,
   "id": "ac1a9846",
   "metadata": {},
   "outputs": [
    {
     "data": {
      "text/html": [
       "<div>\n",
       "<style scoped>\n",
       "    .dataframe tbody tr th:only-of-type {\n",
       "        vertical-align: middle;\n",
       "    }\n",
       "\n",
       "    .dataframe tbody tr th {\n",
       "        vertical-align: top;\n",
       "    }\n",
       "\n",
       "    .dataframe thead th {\n",
       "        text-align: right;\n",
       "    }\n",
       "</style>\n",
       "<table border=\"1\" class=\"dataframe\">\n",
       "  <thead>\n",
       "    <tr style=\"text-align: right;\">\n",
       "      <th></th>\n",
       "      <th>Left Hand Side</th>\n",
       "      <th>Right Hand Side</th>\n",
       "      <th>Support</th>\n",
       "      <th>Confidence</th>\n",
       "      <th>Lift</th>\n",
       "    </tr>\n",
       "  </thead>\n",
       "  <tbody>\n",
       "    <tr>\n",
       "      <th>0</th>\n",
       "      <td>kitchen towels</td>\n",
       "      <td>UHT-milk</td>\n",
       "      <td>0.002309</td>\n",
       "      <td>0.300000</td>\n",
       "      <td>3.821569</td>\n",
       "    </tr>\n",
       "    <tr>\n",
       "      <th>1</th>\n",
       "      <td>rice</td>\n",
       "      <td>UHT-milk</td>\n",
       "      <td>0.002822</td>\n",
       "      <td>0.224490</td>\n",
       "      <td>2.859677</td>\n",
       "    </tr>\n",
       "    <tr>\n",
       "      <th>2</th>\n",
       "      <td>baking powder</td>\n",
       "      <td>frozen fish</td>\n",
       "      <td>0.002309</td>\n",
       "      <td>0.074380</td>\n",
       "      <td>2.870633</td>\n",
       "    </tr>\n",
       "    <tr>\n",
       "      <th>3</th>\n",
       "      <td>potato products</td>\n",
       "      <td>beef</td>\n",
       "      <td>0.002565</td>\n",
       "      <td>0.454545</td>\n",
       "      <td>3.802185</td>\n",
       "    </tr>\n",
       "    <tr>\n",
       "      <th>4</th>\n",
       "      <td>canned fruit</td>\n",
       "      <td>coffee</td>\n",
       "      <td>0.002309</td>\n",
       "      <td>0.428571</td>\n",
       "      <td>3.728954</td>\n",
       "    </tr>\n",
       "    <tr>\n",
       "      <th>5</th>\n",
       "      <td>soups</td>\n",
       "      <td>chicken</td>\n",
       "      <td>0.003335</td>\n",
       "      <td>0.270833</td>\n",
       "      <td>2.693134</td>\n",
       "    </tr>\n",
       "    <tr>\n",
       "      <th>6</th>\n",
       "      <td>chocolate marshmallow</td>\n",
       "      <td>meat</td>\n",
       "      <td>0.002565</td>\n",
       "      <td>0.166667</td>\n",
       "      <td>2.619624</td>\n",
       "    </tr>\n",
       "    <tr>\n",
       "      <th>7</th>\n",
       "      <td>condensed milk</td>\n",
       "      <td>pot plants</td>\n",
       "      <td>0.002052</td>\n",
       "      <td>0.086022</td>\n",
       "      <td>2.890619</td>\n",
       "    </tr>\n",
       "    <tr>\n",
       "      <th>8</th>\n",
       "      <td>condensed milk</td>\n",
       "      <td>processed cheese</td>\n",
       "      <td>0.002565</td>\n",
       "      <td>0.107527</td>\n",
       "      <td>2.794265</td>\n",
       "    </tr>\n",
       "    <tr>\n",
       "      <th>9</th>\n",
       "      <td>meat spreads</td>\n",
       "      <td>cream cheese</td>\n",
       "      <td>0.002052</td>\n",
       "      <td>0.228571</td>\n",
       "      <td>2.582526</td>\n",
       "    </tr>\n",
       "    <tr>\n",
       "      <th>10</th>\n",
       "      <td>dishes</td>\n",
       "      <td>liquor</td>\n",
       "      <td>0.002565</td>\n",
       "      <td>0.075188</td>\n",
       "      <td>2.845463</td>\n",
       "    </tr>\n",
       "    <tr>\n",
       "      <th>11</th>\n",
       "      <td>meat spreads</td>\n",
       "      <td>domestic eggs</td>\n",
       "      <td>0.003592</td>\n",
       "      <td>0.400000</td>\n",
       "      <td>3.004239</td>\n",
       "    </tr>\n",
       "    <tr>\n",
       "      <th>12</th>\n",
       "      <td>flour</td>\n",
       "      <td>mayonnaise</td>\n",
       "      <td>0.002309</td>\n",
       "      <td>0.063380</td>\n",
       "      <td>3.338599</td>\n",
       "    </tr>\n",
       "    <tr>\n",
       "      <th>13</th>\n",
       "      <td>frozen potato products</td>\n",
       "      <td>white wine</td>\n",
       "      <td>0.002309</td>\n",
       "      <td>0.125000</td>\n",
       "      <td>2.832849</td>\n",
       "    </tr>\n",
       "    <tr>\n",
       "      <th>14</th>\n",
       "      <td>light bulbs</td>\n",
       "      <td>frozen vegetables</td>\n",
       "      <td>0.002052</td>\n",
       "      <td>0.285714</td>\n",
       "      <td>2.784286</td>\n",
       "    </tr>\n",
       "    <tr>\n",
       "      <th>15</th>\n",
       "      <td>hard cheese</td>\n",
       "      <td>roll products</td>\n",
       "      <td>0.003079</td>\n",
       "      <td>0.057692</td>\n",
       "      <td>2.811058</td>\n",
       "    </tr>\n",
       "    <tr>\n",
       "      <th>16</th>\n",
       "      <td>house keeping products</td>\n",
       "      <td>long life bakery product</td>\n",
       "      <td>0.002052</td>\n",
       "      <td>0.177778</td>\n",
       "      <td>2.717560</td>\n",
       "    </tr>\n",
       "    <tr>\n",
       "      <th>17</th>\n",
       "      <td>instant coffee</td>\n",
       "      <td>misc. beverages</td>\n",
       "      <td>0.002309</td>\n",
       "      <td>0.152542</td>\n",
       "      <td>2.585262</td>\n",
       "    </tr>\n",
       "    <tr>\n",
       "      <th>18</th>\n",
       "      <td>rice</td>\n",
       "      <td>napkins</td>\n",
       "      <td>0.003079</td>\n",
       "      <td>0.244898</td>\n",
       "      <td>3.011395</td>\n",
       "    </tr>\n",
       "    <tr>\n",
       "      <th>19</th>\n",
       "      <td>photo/film</td>\n",
       "      <td>white wine</td>\n",
       "      <td>0.002565</td>\n",
       "      <td>0.129870</td>\n",
       "      <td>2.943220</td>\n",
       "    </tr>\n",
       "    <tr>\n",
       "      <th>20</th>\n",
       "      <td>syrup</td>\n",
       "      <td>pip fruit</td>\n",
       "      <td>0.002565</td>\n",
       "      <td>0.476190</td>\n",
       "      <td>2.791264</td>\n",
       "    </tr>\n",
       "    <tr>\n",
       "      <th>21</th>\n",
       "      <td>processed cheese</td>\n",
       "      <td>turkey</td>\n",
       "      <td>0.002052</td>\n",
       "      <td>0.053333</td>\n",
       "      <td>2.665299</td>\n",
       "    </tr>\n",
       "    <tr>\n",
       "      <th>22</th>\n",
       "      <td>sparkling wine</td>\n",
       "      <td>waffles</td>\n",
       "      <td>0.002565</td>\n",
       "      <td>0.217391</td>\n",
       "      <td>3.150154</td>\n",
       "    </tr>\n",
       "  </tbody>\n",
       "</table>\n",
       "</div>"
      ],
      "text/plain": [
       "            Left Hand Side           Right Hand Side   Support  Confidence  \\\n",
       "0           kitchen towels                  UHT-milk  0.002309    0.300000   \n",
       "1                     rice                  UHT-milk  0.002822    0.224490   \n",
       "2            baking powder               frozen fish  0.002309    0.074380   \n",
       "3          potato products                      beef  0.002565    0.454545   \n",
       "4             canned fruit                    coffee  0.002309    0.428571   \n",
       "5                    soups                   chicken  0.003335    0.270833   \n",
       "6    chocolate marshmallow                      meat  0.002565    0.166667   \n",
       "7           condensed milk                pot plants  0.002052    0.086022   \n",
       "8           condensed milk          processed cheese  0.002565    0.107527   \n",
       "9             meat spreads             cream cheese   0.002052    0.228571   \n",
       "10                  dishes                    liquor  0.002565    0.075188   \n",
       "11            meat spreads             domestic eggs  0.003592    0.400000   \n",
       "12                   flour                mayonnaise  0.002309    0.063380   \n",
       "13  frozen potato products                white wine  0.002309    0.125000   \n",
       "14             light bulbs         frozen vegetables  0.002052    0.285714   \n",
       "15             hard cheese            roll products   0.003079    0.057692   \n",
       "16  house keeping products  long life bakery product  0.002052    0.177778   \n",
       "17          instant coffee           misc. beverages  0.002309    0.152542   \n",
       "18                    rice                   napkins  0.003079    0.244898   \n",
       "19              photo/film                white wine  0.002565    0.129870   \n",
       "20                   syrup                 pip fruit  0.002565    0.476190   \n",
       "21        processed cheese                    turkey  0.002052    0.053333   \n",
       "22          sparkling wine                   waffles  0.002565    0.217391   \n",
       "\n",
       "        Lift  \n",
       "0   3.821569  \n",
       "1   2.859677  \n",
       "2   2.870633  \n",
       "3   3.802185  \n",
       "4   3.728954  \n",
       "5   2.693134  \n",
       "6   2.619624  \n",
       "7   2.890619  \n",
       "8   2.794265  \n",
       "9   2.582526  \n",
       "10  2.845463  \n",
       "11  3.004239  \n",
       "12  3.338599  \n",
       "13  2.832849  \n",
       "14  2.784286  \n",
       "15  2.811058  \n",
       "16  2.717560  \n",
       "17  2.585262  \n",
       "18  3.011395  \n",
       "19  2.943220  \n",
       "20  2.791264  \n",
       "21  2.665299  \n",
       "22  3.150154  "
      ]
     },
     "execution_count": 37,
     "metadata": {},
     "output_type": "execute_result"
    }
   ],
   "source": [
    "final_df"
   ]
  },
  {
   "cell_type": "code",
   "execution_count": null,
   "id": "5e25f0c8",
   "metadata": {},
   "outputs": [],
   "source": []
  }
 ],
 "metadata": {
  "kernelspec": {
   "display_name": "Python 3 (ipykernel)",
   "language": "python",
   "name": "python3"
  },
  "language_info": {
   "codemirror_mode": {
    "name": "ipython",
    "version": 3
   },
   "file_extension": ".py",
   "mimetype": "text/x-python",
   "name": "python",
   "nbconvert_exporter": "python",
   "pygments_lexer": "ipython3",
   "version": "3.9.12"
  }
 },
 "nbformat": 4,
 "nbformat_minor": 5
}
